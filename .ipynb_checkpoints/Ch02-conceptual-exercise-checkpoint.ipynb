{
 "cells": [
  {
   "cell_type": "markdown",
   "id": "203657b0",
   "metadata": {},
   "source": [
    "## Conceptual Exercises"
   ]
  },
  {
   "cell_type": "markdown",
   "id": "ddb416b0",
   "metadata": {},
   "source": [
    "### Question 1\n",
    "For each of parts (a) through (d), indicate whether we would generally expect the performance of a flexible statistical learning method to be better or worse than an inflexible method. Justify your answer.\n",
    "\n",
    "(a) The sample size n is extremely large, and the number of predictors p is small.\\\n",
    "(b) The number of predictors p is extremely large, and the number of observations n is small.\\\n",
    "(c) The relationship between the predictors and response is highly non-linear.\\\n",
    "(d) The variance of the error terms, i.e. σ2 = Var(ε), is extremely high."
   ]
  },
  {
   "cell_type": "markdown",
   "id": "c521e12f",
   "metadata": {},
   "source": [
    "### Answer\n",
    "(a) Flexible methods are expected to perform better. With a large sample size and a small number of predictors, a flexible model can take advantage of the large amount of data to fit the underlying patterns in the data more accurately without overfitting. Since the number of predictors is small, the complexity of the model will not lead to high variance, and the large sample size will help reduce the variance of the flexible model.\n",
    "\n",
    "(b) Inflexible methods are expected to perform better. When p (number of predictors) is large and n (number of observations) is small, flexible methods tend to overfit because they try to model the relationship using a large number of predictors. This high dimensionality increases the variance, making flexible models highly sensitive to small changes in the data. In such scenarios, a simpler, less flexible method will generalize better by reducing overfitting.\n",
    "\n",
    "(c) Flexible methods are expected to perform better. When the relationship between the predictors and the response is highly non-linear, a flexible model is better suited to capture these complex patterns. Inflexible methods assume a fixed, simple relationship and will struggle to model the underlying complexity, leading to high bias.\n",
    "\n",
    "(d) Inflexible methods are expected to perform better. If the variance of the error terms is high, it means there is a lot of noise in the data. Flexible models, which adapt closely to the training data, will tend to overfit this noise, resulting in high variance. Inflexible methods, on the other hand, will smooth out the noise and provide a more stable and reliable fit."
   ]
  },
  {
   "cell_type": "markdown",
   "id": "d5ec179d",
   "metadata": {},
   "source": [
    "### Question 2\n",
    "\n",
    "Explain whether each scenario is a classification or regression problem, and indicate whether we are most interested in inference or prediction. Finally, provide n and p.\n",
    "\n",
    "(a) We collect a set of data on the top 500 firms in the US. For each firm we record profit, number of employees, industry and the CEO salary. We are interested in understanding which factors affect CEO salary.\\\n",
    "(b) We are considering launching a new product and wish to know whether it will be a success or a failure. We collect data on 20 similar products that were previously launched. For each prod- uct we have recorded whether it was a success or failure, price charged for the product, marketing budget, competition price, and ten other variables.\\\n",
    "(c) We are interested in predicting the % change in the USD/Euro exchange rate in relation to the weekly changes in the world stock markets. Hence we collect weekly data for all of 2012. For each week we record the % change in the USD/Euro, the % change in the US market, the % change in the British market, and the % change in the German market."
   ]
  },
  {
   "cell_type": "markdown",
   "id": "a43bad5c",
   "metadata": {},
   "source": [
    "### Answer\n",
    "\n",
    "(a) It is a `Regression` and `Inference` problem. The CEO salary is a continuous variable, and we want to understand which factors affect CEO salary, which involves interpreting the relationship between predictors and response rather than making predictions.\n",
    "\n",
    "n: 500 (number of firms).\n",
    "\n",
    "p: 3 (profit, number of employees, and industry).\n",
    "\n",
    "(b) It is a `Classification` and `Prediction` problem. The response variable (success or failure) is categorical, and we want to predict whether the new product will be a success or failure based on the predictors.\n",
    "\n",
    "n: 20 (number of products).\n",
    "\n",
    "p: 13 (number of predictors: price, marketing budget, competition price, and ten other variables).\n",
    "\n",
    "(c) It is a `Regression` and `Prediction` problem. The response variable (percentage change in the USD/Euro exchange rate) is continuous, and we are interested in predicting the change in exchange rate based on the predictors.\n",
    "\n",
    "n: 52 (number of weeks in 2012).\n",
    "\n",
    "p: 3 (US market change, British market change, German market change)."
   ]
  },
  {
   "cell_type": "code",
   "execution_count": 6,
   "id": "73888dd8",
   "metadata": {},
   "outputs": [
    {
     "ename": "ImportError",
     "evalue": "cannot import name 'plt' from 'matplotlib.pyplot' (/Users/orinayo/miniforge3/envs/data-science/lib/python3.9/site-packages/matplotlib/pyplot.py)",
     "output_type": "error",
     "traceback": [
      "\u001b[0;31m---------------------------------------------------------------------------\u001b[0m",
      "\u001b[0;31mImportError\u001b[0m                               Traceback (most recent call last)",
      "Cell \u001b[0;32mIn[6], line 1\u001b[0m\n\u001b[0;32m----> 1\u001b[0m \u001b[38;5;28;01mfrom\u001b[39;00m \u001b[38;5;21;01mmatplotlib\u001b[39;00m\u001b[38;5;21;01m.\u001b[39;00m\u001b[38;5;21;01mpyplot\u001b[39;00m \u001b[38;5;28;01mimport\u001b[39;00m plt\n\u001b[1;32m      2\u001b[0m \u001b[38;5;28;01mimport\u001b[39;00m \u001b[38;5;21;01mnumpy\u001b[39;00m \u001b[38;5;28;01mas\u001b[39;00m \u001b[38;5;21;01mnp\u001b[39;00m\n\u001b[1;32m      4\u001b[0m x \u001b[38;5;241m=\u001b[39m np\u001b[38;5;241m.\u001b[39mlinspace(\u001b[38;5;241m2\u001b[39m, \u001b[38;5;241m25\u001b[39m, \u001b[38;5;241m100\u001b[39m)\n",
      "\u001b[0;31mImportError\u001b[0m: cannot import name 'plt' from 'matplotlib.pyplot' (/Users/orinayo/miniforge3/envs/data-science/lib/python3.9/site-packages/matplotlib/pyplot.py)"
     ]
    }
   ],
   "source": [
    "from matplotlib.pyplot import subplots\n",
    "import numpy as np\n",
    "\n",
    "x = np.linspace(2, 25, 100)\n",
    "y1 = np.log(x)   # Example curve\n",
    "y2 = 1/x         # Example curve\n",
    "y3 = (x-5)**2 / 20   # Example curve\n",
    "\n",
    "fig, ax = subplots(figsize=(8, 8))\n",
    "\n",
    "# Plot the curves\n",
    "ax.plot(x, y1, color='brown', linewidth=2)  # Red-brown curve\n",
    "ax.plot(x, y2, color='cyan', linewidth=2)   # Cyan curve\n",
    "ax.plot(x, y3, color='orange', linewidth=2) # Orange curve\n",
    "\n",
    "# Add dashed and dotted lines\n",
    "ax.axhline(y=1, color='black', linestyle='--', linewidth=1)  # Dashed horizontal line\n",
    "ax.axvline(x=5, color='black', linestyle=':', linewidth=1)   # Dotted vertical line\n",
    "\n",
    "\n",
    "ax.set_xlabel(\"Flexibility\")\n",
    "ax.set_ylabel(\"Value\")\n",
    "\n",
    "# Set axis limits\n",
    "ax.set_xlim([2, 25])\n",
    "ax.set_ylim([0, 2.5])\n",
    "\n",
    "plt.show()"
   ]
  },
  {
   "cell_type": "code",
   "execution_count": null,
   "id": "ee0a924e",
   "metadata": {},
   "outputs": [],
   "source": []
  }
 ],
 "metadata": {
  "kernelspec": {
   "display_name": "Python 3 (ipykernel)",
   "language": "python",
   "name": "python3"
  },
  "language_info": {
   "codemirror_mode": {
    "name": "ipython",
    "version": 3
   },
   "file_extension": ".py",
   "mimetype": "text/x-python",
   "name": "python",
   "nbconvert_exporter": "python",
   "pygments_lexer": "ipython3",
   "version": "3.9.7"
  }
 },
 "nbformat": 4,
 "nbformat_minor": 5
}
